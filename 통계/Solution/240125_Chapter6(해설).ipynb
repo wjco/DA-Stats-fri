{
 "cells": [
  {
   "cell_type": "markdown",
   "id": "b454ee65",
   "metadata": {},
   "source": [
    "# 통계 스터디 Quiz\n",
    "\n",
    "- 일시: 2023.01.25(목)\n",
    "- 범위: 6장\n",
    "- 출제: 조동인"
   ]
  },
  {
   "cell_type": "code",
   "execution_count": 1,
   "id": "13e763e9",
   "metadata": {},
   "outputs": [
    {
     "name": "stderr",
     "output_type": "stream",
     "text": [
      "c:\\Users\\173ch\\anaconda3\\lib\\site-packages\\scipy\\__init__.py:155: UserWarning: A NumPy version >=1.18.5 and <1.25.0 is required for this version of SciPy (detected version 1.26.2\n",
      "  warnings.warn(f\"A NumPy version >={np_minversion} and <{np_maxversion}\"\n"
     ]
    }
   ],
   "source": [
    "import pandas as pd\n",
    "import numpy as np\n",
    "from scipy import stats"
   ]
  },
  {
   "cell_type": "markdown",
   "id": "2418a243",
   "metadata": {},
   "source": [
    "---"
   ]
  },
  {
   "cell_type": "markdown",
   "id": "1737aba6",
   "metadata": {},
   "source": [
    "### 1.\n",
    "\n",
    "하나둘은행은 창구에서 고객의 대기 시간이 2500초를 넘으면 고객의 불만이 높아진다고 한다. 하나둘은행은 고객의 대기 시간을 7번 측정하여 다음과 같은 결과를 얻었다. 모든 답안은 문장으로 서술하라.\n",
    "\n",
    "[2610, 2750, 2420, 2510, 2540, 2490, 2680] "
   ]
  },
  {
   "cell_type": "markdown",
   "id": "b4a9eb56",
   "metadata": {},
   "source": [
    "#### (1)\n",
    "\n",
    "고객 대기 시간이 평균 2500초를 넘는다고 할 수 있는가를 검정하기 위한 가설 귀무가설(H0)와 대립가설(H1)을 설정하라.(주관식) **[10점]**"
   ]
  },
  {
   "cell_type": "code",
   "execution_count": 2,
   "id": "2924ab48",
   "metadata": {},
   "outputs": [
    {
     "name": "stdout",
     "output_type": "stream",
     "text": [
      "귀무가설(H0): μ ≤ 2500\n",
      "대립가설(H0): μ > 2500\n"
     ]
    }
   ],
   "source": [
    "H0 = \"μ ≤ 2500\"\n",
    "H1 = \"μ > 2500\"\n",
    "print(\"귀무가설(H0):\", H0)\n",
    "print(\"대립가설(H0):\", H1)"
   ]
  },
  {
   "cell_type": "markdown",
   "id": "bf82c2fc",
   "metadata": {},
   "source": [
    "#### (2)\n",
    "\n",
    "유의수준 0.05에서 가설검정을 진행하라.  **[20점]**"
   ]
  },
  {
   "cell_type": "code",
   "execution_count": 3,
   "id": "b26419d7",
   "metadata": {},
   "outputs": [
    {
     "name": "stdout",
     "output_type": "stream",
     "text": [
      "t-statistic:  1.6419202869239782\n",
      "p-value:  0.07585715751234914\n",
      "귀무가설을 채택합니다. 따라서 고객 대기 시간의 평균이 2500초 이하라고 할 수 있습니다.\n"
     ]
    }
   ],
   "source": [
    "# 고객 대기 시간 데이터\n",
    "wait_times = [2610, 2750, 2420, 2510, 2540, 2490, 2680]\n",
    "\n",
    "# 단일표본 t-검정 수행\n",
    "t_stat, p_val = stats.ttest_1samp(wait_times, 2500)\n",
    "\n",
    "# 단측 검정을 위해 얻은 p-value를 2로 나눈다\n",
    "p_val /= 2\n",
    "\n",
    "print(\"t-statistic: \", t_stat)\n",
    "print(\"p-value: \", p_val)\n",
    "\n",
    "# 가설 검정\n",
    "if p_val < 0.05:\n",
    "    print(\"귀무가설을 기각하고, 대립가설을 채택합니다. 따라서 고객 대기 시간의 평균이 2500초를 초과한다고 할 수 있습니다.\")\n",
    "else:\n",
    "    print(\"귀무가설을 채택합니다. 따라서 고객 대기 시간의 평균이 2500초 이하라고 할 수 있습니다.\")"
   ]
  },
  {
   "cell_type": "markdown",
   "id": "ee142e8f",
   "metadata": {},
   "source": [
    "#### (3)\n",
    "\n",
    "유의수준 0.1에서 가설검정을 진행하라.  **[20점]**"
   ]
  },
  {
   "cell_type": "code",
   "execution_count": 4,
   "id": "7cec4298",
   "metadata": {},
   "outputs": [
    {
     "name": "stdout",
     "output_type": "stream",
     "text": [
      "t-statistic:  1.6419202869239782\n",
      "p-value:  0.07585715751234914\n",
      "귀무가설을 기각하고, 대립가설을 채택합니다. 따라서 고객 대기 시간의 평균이 2500초를 초과한다고 할 수 있습니다.\n"
     ]
    }
   ],
   "source": [
    "# 고객 대기 시간 데이터\n",
    "wait_times = [2610, 2750, 2420, 2510, 2540, 2490, 2680]\n",
    "\n",
    "# 단일표본 t-검정 수행\n",
    "t_stat, p_val = stats.ttest_1samp(wait_times, 2500)\n",
    "\n",
    "# 단측 검정을 위해 얻은 p-value를 2로 나눈다\n",
    "p_val /= 2\n",
    "\n",
    "print(\"t-statistic: \", t_stat)\n",
    "print(\"p-value: \", p_val)\n",
    "\n",
    "# 가설 검정\n",
    "if p_val < 0.1:\n",
    "    print(\"귀무가설을 기각하고, 대립가설을 채택합니다. 따라서 고객 대기 시간의 평균이 2500초를 초과한다고 할 수 있습니다.\")\n",
    "else:\n",
    "    print(\"귀무가설을 채택합니다. 따라서 고객 대기 시간의 평균이 2500초 이하라고 할 수 있습니다.\")\n"
   ]
  },
  {
   "cell_type": "markdown",
   "id": "aca1b47f",
   "metadata": {},
   "source": [
    "---"
   ]
  },
  {
   "cell_type": "markdown",
   "id": "6c2e8165",
   "metadata": {},
   "source": [
    "### 2.\n",
    "\n",
    "서로 독립인 두 집단에 대해 얻어진 표본값이 다음과 같다. 이에 대한 두 가설을 검정하라.\n",
    "\n",
    "모집단1: [16,21,12,24,22,17,19,17,25,28] \n",
    "\n",
    "모집단2: [23,31,13,19,23,17,28,26,28,25] \n",
    "\n",
    "H0: 모집단1의 평균+1은 모집단2의 평균과 같다\n",
    "\n",
    "H1: 모집단1의 평균+1은 모집단2의 평균과 다르다"
   ]
  },
  {
   "cell_type": "code",
   "execution_count": 8,
   "id": "dbfc0dcd",
   "metadata": {},
   "outputs": [
    {
     "name": "stdout",
     "output_type": "stream",
     "text": [
      "t-statistic:  -0.9457567616232289\n",
      "p-value:  0.3567965161310185\n",
      "p-value는 0.35로, 0.05보다 큽니다. 따라서 귀무가설(H0)를 기각할 충분한 증거가 없으므로, 귀무가설을 채택합니다.\n"
     ]
    }
   ],
   "source": [
    "# 각 모집단의 데이터\n",
    "pop1 = [16,21,12,24,22,17,19,17,25,28]\n",
    "pop2 = [23,31,13,19,23,17,28,26,28,25]\n",
    "\n",
    "# 모집단1의 각 데이터에 1을 더한다\n",
    "pop1 = [x+1 for x in pop1]\n",
    "\n",
    "# 독립표본 t-검정 수행\n",
    "t_stat, p_val = stats.ttest_ind(pop1, pop2)\n",
    "\n",
    "print(\"t-statistic: \", t_stat)\n",
    "print(\"p-value: \", p_val)\n",
    "\n",
    "answer=\"p-value는 0.35로, 0.05보다 큽니다. 따라서 귀무가설(H0)를 기각할 충분한 증거가 없으므로, 귀무가설을 채택합니다.\"\n",
    "print(answer)"
   ]
  },
  {
   "cell_type": "markdown",
   "id": "941233fa",
   "metadata": {},
   "source": [
    "---"
   ]
  },
  {
   "cell_type": "markdown",
   "id": "2d1d3ac6",
   "metadata": {},
   "source": [
    "### 3.\n",
    "\n",
    "맞벌이 부부들의 여가 시간 만족도 조사를 위해 여성 근로자 100명, 남성 근로자 100명을 표본으로 얻었다. \n",
    "\n",
    "남성 근로자들 100명 중에 여가 시간을 만족하는 사람은 56명, 여성 100명 중에는 40명이 만족한다고 할 때, 맞벌이 여성 근로자가 남성에 비해 만족도가 낮은지 가설검정하라."
   ]
  },
  {
   "cell_type": "code",
   "execution_count": 7,
   "id": "a45e3644",
   "metadata": {},
   "outputs": [
    {
     "name": "stdout",
     "output_type": "stream",
     "text": [
      "z-statistic:  2.264554068289192\n",
      "p-value:  0.988229970869411\n",
      "귀무가설을 채택합니다. 따라서 여성 근로자의 만족도가 남성 근로자와 같다고 할 수 있습니다.\n"
     ]
    }
   ],
   "source": [
    "from statsmodels.stats.proportion import proportions_ztest\n",
    "\n",
    "H0 = \"남성 근로자의 만족도와 여성 근로자의 만족도가 같다\"\n",
    "H1 = \"여성 근로자의 만족도가 남성 근로자 보다 낮다\"\n",
    "\n",
    "# 만족하는 사람의 수\n",
    "count = [56, 40]\n",
    "\n",
    "# 각 집단의 사람 수\n",
    "nobs = [100, 100]\n",
    "\n",
    "# 비율 가설 검정 수행\n",
    "z_stat, p_val = proportions_ztest(count, nobs, alternative='smaller')\n",
    "\n",
    "print(\"z-statistic: \", z_stat)\n",
    "print(\"p-value: \", p_val)\n",
    "\n",
    "# 가설 검정\n",
    "if p_val < 0.05:\n",
    "    print(\"귀무가설을 기각하고, 대립가설을 채택합니다. 따라서 여성 근로자의 만족도가 남성 근로자 보다 낮다고 할 수 있습니다.\")\n",
    "else:\n",
    "    print(\"귀무가설을 채택합니다. 따라서 여성 근로자의 만족도가 남성 근로자와 같다고 할 수 있습니다.\")\n"
   ]
  }
 ],
 "metadata": {
  "kernelspec": {
   "display_name": "Python 3 (ipykernel)",
   "language": "python",
   "name": "python3"
  },
  "language_info": {
   "codemirror_mode": {
    "name": "ipython",
    "version": 3
   },
   "file_extension": ".py",
   "mimetype": "text/x-python",
   "name": "python",
   "nbconvert_exporter": "python",
   "pygments_lexer": "ipython3",
   "version": "3.9.13"
  },
  "toc": {
   "base_numbering": 1,
   "nav_menu": {},
   "number_sections": false,
   "sideBar": true,
   "skip_h1_title": false,
   "title_cell": "Table of Contents",
   "title_sidebar": "Contents",
   "toc_cell": false,
   "toc_position": {},
   "toc_section_display": true,
   "toc_window_display": false
  }
 },
 "nbformat": 4,
 "nbformat_minor": 5
}
